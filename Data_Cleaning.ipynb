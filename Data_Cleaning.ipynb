{
  "nbformat": 4,
  "nbformat_minor": 0,
  "metadata": {
    "colab": {
      "name": "Data_Cleaning",
      "provenance": []
    },
    "kernelspec": {
      "name": "python3",
      "display_name": "Python 3"
    },
    "language_info": {
      "name": "python"
    }
  },
  "cells": [
    {
      "cell_type": "code",
      "execution_count": 2,
      "metadata": {
        "id": "qV2Ai2m0sX0T"
      },
      "outputs": [],
      "source": [
        "import pandas as pd\n",
        "from sklearn import preprocessing"
      ]
    },
    {
      "cell_type": "code",
      "source": [
        "data = pd.read_csv('/content/sample_data/melb_data.csv')\n",
        "data.shape\n",
        "data.info()\n",
        "data.describe()\n",
        "data.sample() \n",
        "data.dtypes\n",
        "id_string=data.loc[:,\"Unique ID\"]\n",
        "new=data[\"Unique ID\"].str.split('_',n=1,expand=True)\n",
        "data[\"ID\"]=new[1]\n",
        "data.set_index(\"ID\", inplace = True)\n",
        "label_encoder = preprocessing.LabelEncoder()\n",
        "data[\"ID_encoded\"]= label_encoder.fit_transform(data[\"Regionname\"])\n",
        "data[\"ID_encoded\"]\n",
        "data.fillna(0)\n",
        "data['YearBuilt'].fillna(0)\n",
        "data['YearBuilt'] = data['YearBuilt'].astype('int',errors='ignore')\n",
        "rooms_mean=data['Rooms'].mean()\n",
        "price_median=data['Price'].median()\n",
        "price_mode=data['Price'].mode()"
      ],
      "metadata": {
        "colab": {
          "base_uri": "https://localhost:8080/"
        },
        "id": "UD9Q8o7Tslsb",
        "outputId": "21c35177-21d6-476f-b66c-2c450f179a8d"
      },
      "execution_count": 28,
      "outputs": [
        {
          "output_type": "stream",
          "name": "stdout",
          "text": [
            "<class 'pandas.core.frame.DataFrame'>\n",
            "RangeIndex: 13580 entries, 0 to 13579\n",
            "Data columns (total 22 columns):\n",
            " #   Column         Non-Null Count  Dtype  \n",
            "---  ------         --------------  -----  \n",
            " 0   Unique ID      13580 non-null  object \n",
            " 1   Suburb         13580 non-null  object \n",
            " 2   Address        13580 non-null  object \n",
            " 3   Rooms          13580 non-null  int64  \n",
            " 4   Type           13580 non-null  object \n",
            " 5   Price          13580 non-null  int64  \n",
            " 6   Method         13580 non-null  object \n",
            " 7   SellerG        13580 non-null  object \n",
            " 8   Date           13580 non-null  object \n",
            " 9   Distance       13580 non-null  float64\n",
            " 10  Postcode       13580 non-null  int64  \n",
            " 11  Bedroom2       13580 non-null  int64  \n",
            " 12  Bathroom       13580 non-null  int64  \n",
            " 13  Car            13518 non-null  float64\n",
            " 14  Landsize       13580 non-null  int64  \n",
            " 15  BuildingArea   7130 non-null   float64\n",
            " 16  YearBuilt      8205 non-null   float64\n",
            " 17  CouncilArea    12211 non-null  object \n",
            " 18  Lattitude      13580 non-null  float64\n",
            " 19  Longtitude     13580 non-null  float64\n",
            " 20  Regionname     13580 non-null  object \n",
            " 21  Propertycount  13580 non-null  int64  \n",
            "dtypes: float64(6), int64(7), object(9)\n",
            "memory usage: 2.3+ MB\n"
          ]
        }
      ]
    }
  ]
}